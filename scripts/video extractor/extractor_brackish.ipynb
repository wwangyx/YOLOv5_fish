{
 "cells": [
  {
   "cell_type": "code",
   "execution_count": 1,
   "id": "4b592f78",
   "metadata": {},
   "outputs": [],
   "source": [
    "import os\n",
    "import cv2\n",
    "import shutil\n",
    "import cv2\n",
    "import numpy as np\n",
    "import sys"
   ]
  },
  {
   "cell_type": "code",
   "execution_count": 8,
   "id": "6130fb52",
   "metadata": {},
   "outputs": [
    {
     "name": "stdout",
     "output_type": "stream",
     "text": [
      "12\n",
      "['2019-03-20_05-40-25to2019-03-20_05-40-33_1.avi', '2019-03-20_02-06-34to2019-03-20_02-06-42_1.avi', '2019-03-20_15-15-12to2019-03-20_15-15-19_1.avi', '2019-03-20_03-33-35to2019-03-20_03-33-42_1.avi', '2019-03-21_00-58-45to2019-03-21_00-58-55_1.avi', '2019-03-19_22-56-30to2019-03-19_22-56-38_1.avi', '2019-03-20_06-00-48to2019-03-20_06-00-56_1.avi', '2019-03-20_11-11-18to2019-03-20_11-11-25_1.avi', '2019-03-20_11-52-23to2019-03-20_11-52-31_1.avi', '2019-03-20_06-06-02to2019-03-20_06-06-09_1.avi', '2019-03-20_10-50-55to2019-03-20_10-51-03_1.avi', '2019-03-20_06-47-19to2019-03-20_06-47-29_1.avi']\n"
     ]
    }
   ],
   "source": [
    "def file_name(file_dir):\n",
    "    L = []\n",
    "    for root, dir, files in os.walk(file_dir):\n",
    "        for file in files:\n",
    "            if os.path.splitext(file)[1] == '.avi':\n",
    "                L.append(file)\n",
    "    return L\n",
    " \n",
    "file_dir = 'dataset/videos/jellyfish/'\n",
    "L = file_name(file_dir)\n",
    "print (len(L))\n",
    "print(L)\n",
    "save_images_path = \"jellyfish_frames/\"\n",
    "if os.path.exists(save_images_path):\n",
    "    shutil.rmtree(save_images_path)\n",
    "os.makedirs(save_images_path)\n",
    "for iter in range(0,len(L)):\n",
    "    video_full_path = \"dataset/videos/jellyfish/\" + L[iter]\n",
    "#     cap = cv2.VideoCapture(video_full_path)\n",
    "    \n",
    "    videoCapture = cv2.VideoCapture()\n",
    "    videoCapture.open(video_full_path)\n",
    "    frames = videoCapture.get(cv2.CAP_PROP_FRAME_COUNT)\n",
    "    \n",
    "    #print cap.isOpened()\n",
    "    frame_count = 1\n",
    "    success = True\n",
    "    while (success):\n",
    "#         success, frame = cap.read()\n",
    "        success, frame = videoCapture.read()\n",
    "        if not success:\n",
    "            break\n",
    "        #print 'Read a new frame: ', success\n",
    "        params = []\n",
    "        # params.append(cv.CV_IMWRITE_PXM_BINARY)\n",
    "        #print(frame_count)\n",
    "        params.append(1)\n",
    "        cv2.imwrite(save_images_path + L[iter].replace(\".avi\", \"\") + \"-%04d.png\" % frame_count,cv2.resize(frame,(960,540)))\n",
    "        \n",
    "\n",
    "        frame_count = frame_count + 1\n",
    "\n",
    "#     cap.release()\n",
    "    videoCapture.release()\n"
   ]
  },
  {
   "cell_type": "code",
   "execution_count": 42,
   "id": "fb729c55",
   "metadata": {},
   "outputs": [],
   "source": []
  },
  {
   "cell_type": "code",
   "execution_count": null,
   "id": "bf678b69",
   "metadata": {},
   "outputs": [],
   "source": []
  }
 ],
 "metadata": {
  "kernelspec": {
   "display_name": "Python 3",
   "language": "python",
   "name": "python3"
  },
  "language_info": {
   "codemirror_mode": {
    "name": "ipython",
    "version": 3
   },
   "file_extension": ".py",
   "mimetype": "text/x-python",
   "name": "python",
   "nbconvert_exporter": "python",
   "pygments_lexer": "ipython3",
   "version": "3.8.10"
  },
  "latex_envs": {
   "LaTeX_envs_menu_present": true,
   "autoclose": false,
   "autocomplete": true,
   "bibliofile": "biblio.bib",
   "cite_by": "apalike",
   "current_citInitial": 1,
   "eqLabelWithNumbers": true,
   "eqNumInitial": 1,
   "hotkeys": {
    "equation": "Ctrl-E",
    "itemize": "Ctrl-I"
   },
   "labels_anchors": false,
   "latex_user_defs": false,
   "report_style_numbering": false,
   "user_envs_cfg": false
  },
  "toc": {
   "base_numbering": 1,
   "nav_menu": {},
   "number_sections": true,
   "sideBar": true,
   "skip_h1_title": false,
   "title_cell": "Table of Contents",
   "title_sidebar": "Contents",
   "toc_cell": false,
   "toc_position": {},
   "toc_section_display": true,
   "toc_window_display": false
  }
 },
 "nbformat": 4,
 "nbformat_minor": 5
}

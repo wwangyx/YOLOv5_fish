{
 "cells": [
  {
   "cell_type": "code",
   "execution_count": 1,
   "metadata": {},
   "outputs": [],
   "source": [
    "import os\n",
    "\n",
    "  \n",
    "def listdir(path,type):  \n",
    "    list_name = []\n",
    "    if type == \"txt\":\n",
    "        for file in os.listdir(path):   \n",
    "            if os.path.splitext(file)[1]== \".txt\":  \n",
    "                list_name.append((os.path.splitext(file))[0])\n",
    "    elif type == \"jpg\":\n",
    "        for file in os.listdir(path): \n",
    "            file_path = os.path.join(path, file)   \n",
    "            if os.path.splitext(file_path)[1]== \".jpg\":  \n",
    "                list_name.append(file_path)\n",
    "    return list_name"
   ]
  },
  {
   "cell_type": "code",
   "execution_count": 2,
   "metadata": {},
   "outputs": [
    {
     "name": "stdout",
     "output_type": "stream",
     "text": [
      "5278\n",
      "9004\n",
      "5278\n"
     ]
    }
   ],
   "source": [
    "list_label = listdir(\"/home/xiaoer/chenchen/yolov5/data/labels/train\",\"txt\")\n",
    "print(len(list_label))\n",
    "list_images = listdir(\"/home/xiaoer/chenchen/yolov5/data/images/train\",\"jpg\")\n",
    "print(len(list_images))\n",
    "for image in list_images:\n",
    "    if os.path.splitext(image)[0].split(\"/\")[-1] not in list_label:\n",
    "        os.remove(image)\n",
    "list_images = listdir(\"/home/xiaoer/chenchen/yolov5/data/images/train\",\"jpg\")\n",
    "print(len(list_images))"
   ]
  },
  {
   "cell_type": "code",
   "execution_count": 3,
   "metadata": {},
   "outputs": [
    {
     "name": "stdout",
     "output_type": "stream",
     "text": [
      "1897\n",
      "21748\n",
      "1897\n"
     ]
    }
   ],
   "source": [
    "list_label = listdir(\"/home/xiaoer/chenchen/yolov5/data/labels/val\",\"txt\")\n",
    "print(len(list_label))\n",
    "list_images = listdir(\"/home/xiaoer/chenchen/yolov5/data/images/val\",\"jpg\")\n",
    "print(len(list_images))\n",
    "for image in list_images:\n",
    "    if os.path.splitext(image)[0].split(\"/\")[-1] not in list_label:\n",
    "        os.remove(image)\n",
    "list_images = listdir(\"/home/xiaoer/chenchen/yolov5/data/images/val\",\"jpg\")\n",
    "print(len(list_images))"
   ]
  },
  {
   "cell_type": "code",
   "execution_count": null,
   "metadata": {},
   "outputs": [],
   "source": []
  }
 ],
 "metadata": {
  "interpreter": {
   "hash": "def3092940e2505342c362fa3c108effe4e742633b9f7e41cd1f5483e8ec3dd3"
  },
  "kernelspec": {
   "display_name": "Python 3",
   "language": "python",
   "name": "python3"
  },
  "language_info": {
   "codemirror_mode": {
    "name": "ipython",
    "version": 3
   },
   "file_extension": ".py",
   "mimetype": "text/x-python",
   "name": "python",
   "nbconvert_exporter": "python",
   "pygments_lexer": "ipython3",
   "version": "3.8.10"
  },
  "latex_envs": {
   "LaTeX_envs_menu_present": true,
   "autoclose": false,
   "autocomplete": true,
   "bibliofile": "biblio.bib",
   "cite_by": "apalike",
   "current_citInitial": 1,
   "eqLabelWithNumbers": true,
   "eqNumInitial": 1,
   "hotkeys": {
    "equation": "Ctrl-E",
    "itemize": "Ctrl-I"
   },
   "labels_anchors": false,
   "latex_user_defs": false,
   "report_style_numbering": false,
   "user_envs_cfg": false
  },
  "toc": {
   "base_numbering": 1,
   "nav_menu": {},
   "number_sections": true,
   "sideBar": true,
   "skip_h1_title": false,
   "title_cell": "Table of Contents",
   "title_sidebar": "Contents",
   "toc_cell": false,
   "toc_position": {},
   "toc_section_display": true,
   "toc_window_display": false
  }
 },
 "nbformat": 4,
 "nbformat_minor": 2
}
